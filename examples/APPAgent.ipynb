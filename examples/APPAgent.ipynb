{
 "cells": [
  {
   "cell_type": "code",
   "execution_count": 1,
   "metadata": {},
   "outputs": [
    {
     "data": {
      "text/plain": [
       "b'success'"
      ]
     },
     "execution_count": 1,
     "metadata": {},
     "output_type": "execute_result"
    }
   ],
   "source": [
    "from rltensor.app import APPAgent\n",
    "\n",
    "start = '2016-02-01 00:00:00'\n",
    "end = '2017-12-01 00:00:00'\n",
    "# end can be None to use the most recent data\n",
    "# end = None\n",
    "load_file_path = None\n",
    "# load_file_path = \"params2016-02-01_00:00:00/model.ckpt\"\n",
    "num_epochs=1\n",
    "\n",
    "APPAgent.fit(start, end, load_file_path, num_epochs)"
   ]
  },
  {
   "cell_type": "code",
   "execution_count": 2,
   "metadata": {
    "scrolled": true
   },
   "outputs": [
    {
     "data": {
      "text/plain": [
       "b'success'"
      ]
     },
     "execution_count": 2,
     "metadata": {},
     "output_type": "execute_result"
    }
   ],
   "source": [
    "# Get data newer than end(='2017-12-01 00:00:00')\n",
    "APPAgent.update_data()"
   ]
  },
  {
   "cell_type": "code",
   "execution_count": 2,
   "metadata": {},
   "outputs": [
    {
     "data": {
      "text/plain": [
       "b'success'"
      ]
     },
     "execution_count": 2,
     "metadata": {},
     "output_type": "execute_result"
    }
   ],
   "source": [
    "# Train model\n",
    "APPAgent.update_model(num_epochs=1)"
   ]
  },
  {
   "cell_type": "code",
   "execution_count": 3,
   "metadata": {},
   "outputs": [
    {
     "data": {
      "text/plain": [
       "array([ 0.1998769 ,  0.09606458,  0.07004056,  0.07612333,  0.06372789,\n",
       "        0.08754069,  0.08487483,  0.07506553,  0.06009565,  0.10796611,\n",
       "        0.07862391])"
      ]
     },
     "execution_count": 3,
     "metadata": {},
     "output_type": "execute_result"
    }
   ],
   "source": [
    "APPAgent.predict()"
   ]
  },
  {
   "cell_type": "code",
   "execution_count": 4,
   "metadata": {},
   "outputs": [
    {
     "data": {
      "text/plain": [
       "array([ 0.1998769 ,  0.09606458,  0.07004056,  0.07612333,  0.06372789,\n",
       "        0.08754069,  0.08487483,  0.07506553,  0.06009565,  0.10796611,\n",
       "        0.07862391])"
      ]
     },
     "execution_count": 4,
     "metadata": {},
     "output_type": "execute_result"
    }
   ],
   "source": [
    "from rltensor.app import APPAgent\n",
    "APPAgent.predict()"
   ]
  },
  {
   "cell_type": "code",
   "execution_count": null,
   "metadata": {
    "collapsed": true
   },
   "outputs": [],
   "source": []
  }
 ],
 "metadata": {
  "kernelspec": {
   "display_name": "Python 3",
   "language": "python",
   "name": "python3"
  },
  "language_info": {
   "codemirror_mode": {
    "name": "ipython",
    "version": 3
   },
   "file_extension": ".py",
   "mimetype": "text/x-python",
   "name": "python",
   "nbconvert_exporter": "python",
   "pygments_lexer": "ipython3",
   "version": "3.6.1"
  }
 },
 "nbformat": 4,
 "nbformat_minor": 2
}
